{
 "cells": [
  {
   "cell_type": "markdown",
   "id": "1e65f8be",
   "metadata": {},
   "source": [
    "## Data structure"
   ]
  },
  {
   "cell_type": "code",
   "execution_count": null,
   "id": "251e59f2",
   "metadata": {},
   "outputs": [],
   "source": [
    "import pandas as pd\n",
    "\n",
    "df = pd.read_csv(\"data/rawdata.csv\")\n",
    "\n",
    "print(f\"Dataframe values types: {df.info()}\")\n",
    "print(f\"Description of dataframe: {df.describe()}\")\n",
    "print(f\"Number of unique values: {df.nunique()}\")\n",
    "print(f\"Number of duplicated rows: {df.duplicated().sum()}\")"
   ]
  },
  {
   "cell_type": "markdown",
   "id": "4f8e0102",
   "metadata": {},
   "source": [
    "## Checking missing values"
   ]
  },
  {
   "cell_type": "code",
   "execution_count": null,
   "id": "50da9c85",
   "metadata": {},
   "outputs": [],
   "source": [
    "df.isnull().sum().sort_values(ascending=False)"
   ]
  },
  {
   "cell_type": "markdown",
   "id": "53775fb0",
   "metadata": {},
   "source": [
    "## Checking if the dataset is balanced"
   ]
  },
  {
   "cell_type": "code",
   "execution_count": null,
   "id": "bafd036c",
   "metadata": {},
   "outputs": [],
   "source": [
    "df['Churn'].value_counts(normalize=True).plot(kind='bar')"
   ]
  },
  {
   "cell_type": "markdown",
   "id": "aaa9896c",
   "metadata": {},
   "source": [
    "## Feature distribution"
   ]
  },
  {
   "cell_type": "code",
   "execution_count": null,
   "id": "e8bc173c",
   "metadata": {},
   "outputs": [],
   "source": [
    "import seaborn as sns\n",
    "import matplotlib.pyplot as plt\n",
    "\n",
    "for feature in df.columns:\n",
    "    sns.histplot(data=df,x=feature)\n",
    "    plt.title(f\"Distribution of feature: {feature}\")\n",
    "    plt.xlabel(feature)\n",
    "    plt.ylabel(\"frequency\")\n",
    "    plt.show()"
   ]
  },
  {
   "cell_type": "markdown",
   "id": "443c962f",
   "metadata": {},
   "source": [
    "## Dependence of numerical features on churn"
   ]
  },
  {
   "cell_type": "code",
   "execution_count": null,
   "id": "900834d9",
   "metadata": {},
   "outputs": [],
   "source": [
    "sns.boxplot(x='Churn', y='MonthlyCharges', data=df)\n",
    "plt.show()\n",
    "sns.boxplot(x='Churn', y='tenure', data=df)\n",
    "plt.show()"
   ]
  },
  {
   "cell_type": "markdown",
   "id": "7ff5cb58",
   "metadata": {},
   "source": [
    "## Categorical features vs Chrun"
   ]
  },
  {
   "cell_type": "code",
   "execution_count": null,
   "id": "e222ba5a",
   "metadata": {},
   "outputs": [],
   "source": [
    "pd.crosstab(df['InternetService'], df['Churn'], normalize='index').plot(kind='bar', stacked=True)"
   ]
  },
  {
   "cell_type": "markdown",
   "id": "2fb30553",
   "metadata": {},
   "source": [
    "## Correlation heatmap"
   ]
  },
  {
   "cell_type": "code",
   "execution_count": null,
   "id": "df1c58cb",
   "metadata": {},
   "outputs": [],
   "source": [
    "sns.heatmap(df.select_dtypes(include='number').corr(), annot=True, cmap='coolwarm')"
   ]
  }
 ],
 "metadata": {
  "kernelspec": {
   "display_name": "Python 3",
   "language": "python",
   "name": "python3"
  },
  "language_info": {
   "codemirror_mode": {
    "name": "ipython",
    "version": 3
   },
   "file_extension": ".py",
   "mimetype": "text/x-python",
   "name": "python",
   "nbconvert_exporter": "python",
   "pygments_lexer": "ipython3",
   "version": "3.12.0"
  }
 },
 "nbformat": 4,
 "nbformat_minor": 5
}
